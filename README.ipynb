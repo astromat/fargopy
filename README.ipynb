{
 "cells": [
  {
   "cell_type": "markdown",
   "metadata": {},
   "source": [
    "# FARGOpy\n",
    "## Wrapping FRAGO3D"
   ]
  },
  {
   "cell_type": "markdown",
   "metadata": {},
   "source": [
    "<!-- This are visual tags that you may add to your package at the beginning with useful information on your package --> \n",
    "[![version](https://img.shields.io/pypi/v/fargopy?color=blue)](https://pypi.org/project/fargopy/)\n",
    "[![downloads](https://img.shields.io/pypi/dw/fargopy)](https://pypi.org/project/fargopy/)"
   ]
  },
  {
   "cell_type": "markdown",
   "metadata": {},
   "source": [
    "`FARGOpy` is a python wrapping for [`FARGO3D`](https://fargo3d.bitbucket.io/intro.html)., the well-knwon hydrodynamics and magnetohydrodynamics parallel code. This wrapping is intended to ensue the interaction with FARGO3D especially for those starting using the code, for instance for teaching and training purposes, but also provide functionalities for most advanced users in tasks related to the postprocessing of output files and plotting."
   ]
  },
  {
   "cell_type": "markdown",
   "metadata": {},
   "source": [
    "## Download and install"
   ]
  },
  {
   "cell_type": "markdown",
   "metadata": {},
   "source": [
    "For using `FARGOpy` you first need to download and install `FARGO3D` and all its prerequisites. For a detailed guide please see the [FARGO documentation](https://fargo3d.bitbucket.io/index.html) or the [project repo at bitbucket](https://bitbucket.org/fargo3d/public/src/ae0fcdc67bb7c83aed85fc9a4d4a2d5061324597/?at=release%2Fpublic). Still, `FARGOpy` provides some useful commands and tools to test the platform on which you are working and check if it is prepared to use the whole functionalities of the packages or part of them.\n",
    "\n",
    "> **NOTE**: It is important to understand that `FARGO3D` works especially well on Linux plaforms (including `MacOS`). The same condition applies for `FARGOpy`. Because of that, most internal as well as public features of the packages are designed to work in a `Linux` environment. For working in another operating systems, for instance for teaching or training purposes, please consider to use virtual machines."
   ]
  },
  {
   "cell_type": "markdown",
   "metadata": {},
   "source": [
    "For installing `FARGOpy` run:"
   ]
  },
  {
   "cell_type": "code",
   "execution_count": 1,
   "metadata": {},
   "outputs": [],
   "source": [
    "# Uncomment if you are in Google Colab\n",
    "# !pip install -q fargopy"
   ]
  },
  {
   "cell_type": "markdown",
   "metadata": {},
   "source": [
    "Once installed import it:"
   ]
  },
  {
   "cell_type": "code",
   "execution_count": 1,
   "metadata": {},
   "outputs": [
    {
     "name": "stdout",
     "output_type": "stream",
     "text": [
      "Running FARGOpy version 0.0.1\n"
     ]
    }
   ],
   "source": [
    "import fargopy as fp\n",
    "\n",
    "# For developing purpose. Remove during production\n",
    "%load_ext autoreload\n",
    "%autoreload 2"
   ]
  },
  {
   "cell_type": "markdown",
   "metadata": {},
   "source": [
    "## Quickstart"
   ]
  },
  {
   "cell_type": "markdown",
   "metadata": {},
   "source": [
    "The first thing you need to run `FARGOpy` is to create a simulation:"
   ]
  },
  {
   "cell_type": "code",
   "execution_count": 50,
   "metadata": {},
   "outputs": [],
   "source": [
    "sim = fp.Simulation()"
   ]
  },
  {
   "cell_type": "markdown",
   "metadata": {},
   "source": [
    "### Install FARGO3D"
   ]
  },
  {
   "cell_type": "markdown",
   "metadata": {},
   "source": [
    "For obvious reasons `FARGO3D` is not provided with `FARGOpy`. If you already have a copy of the package in your computer you just need to configure your copy setting the path directory where the copy is:"
   ]
  },
  {
   "cell_type": "code",
   "execution_count": 56,
   "metadata": {},
   "outputs": [],
   "source": [
    "fp.Conf.update_fargo3d_dir('/tmp','public')"
   ]
  },
  {
   "cell_type": "markdown",
   "metadata": {},
   "source": [
    "If you don't have a copy you may want to get one using:"
   ]
  },
  {
   "cell_type": "code",
   "execution_count": 60,
   "metadata": {},
   "outputs": [
    {
     "name": "stdout",
     "output_type": "stream",
     "text": [
      "Running FARGOpy version 0.0.1\n",
      "> Checking for FARGO3D directroy:\n",
      "FARGO3D source code is not available at './public/'\n",
      "\tGetting FARGO3D public repo...\n",
      "\t✓Package downloaded to './public/'\n",
      "> Checking for FARGO3D normal binary:\n",
      "FARGO3D binary with options '' not compiled at './public/'\n",
      "\tCompiling FARGO3D (it may take a while)...\n",
      "\t✓Binary in normal mode compiling correctly\n",
      "> Checking for FARGO3D parallel binary:\n",
      "FARGO3D binary with options 'PARALLEL=1' not compiled at './public/'\n",
      "\tCompiling FARGO3D in parallel (it may take a while)...\n",
      "\t✓Binary in parallel mode compiling correctly\n",
      "> Checking for FARGO3D GPU binary:\n",
      "FARGO3D binary with options 'GPU=1' not compiled at './public/'\n",
      "\tCompiling FARGO3D with GPU (it may take a while)...\n",
      "\tNo GPU available\n"
     ]
    }
   ],
   "source": [
    "sim.set_fargo3d(basedir='.')"
   ]
  },
  {
   "cell_type": "markdown",
   "metadata": {},
   "source": [
    "## What's new\n"
   ]
  },
  {
   "cell_type": "markdown",
   "metadata": {},
   "source": [
    "Version 0.0.*:\n",
    "\n",
    "- First classes created.\n",
    "- The project is started!"
   ]
  },
  {
   "cell_type": "markdown",
   "metadata": {},
   "source": [
    "------------\n",
    "\n",
    "This package has been designed and written by Jorge I. Zuluaga and Matías Montesinos (C) 2023"
   ]
  }
 ],
 "metadata": {
  "kernelspec": {
   "display_name": "base",
   "language": "python",
   "name": "python3"
  },
  "language_info": {
   "codemirror_mode": {
    "name": "ipython",
    "version": 3
   },
   "file_extension": ".py",
   "mimetype": "text/x-python",
   "name": "python",
   "nbconvert_exporter": "python",
   "pygments_lexer": "ipython3",
   "version": "3.9.16"
  }
 },
 "nbformat": 4,
 "nbformat_minor": 2
}
