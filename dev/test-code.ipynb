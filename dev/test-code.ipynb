{
 "cells": [
  {
   "cell_type": "code",
   "execution_count": 1,
   "metadata": {},
   "outputs": [
    {
     "name": "stdout",
     "output_type": "stream",
     "text": [
      "Running FARGOpy version 0.0.1\n"
     ]
    }
   ],
   "source": [
    "import fargopy as fp\n",
    "\n",
    "# For developing purpose. Remove during production\n",
    "%load_ext autoreload\n",
    "%autoreload 2"
   ]
  },
  {
   "cell_type": "markdown",
   "metadata": {},
   "source": [
    "## Util"
   ]
  },
  {
   "cell_type": "code",
   "execution_count": 44,
   "metadata": {},
   "outputs": [
    {
     "name": "stdout",
     "output_type": "stream",
     "text": [
      "::FARGOpy::sysrun::cmd = ls -lh\n",
      "total 8.0K\n",
      "-rw-r--r-- 1 jzuluaga jzuluaga 5.3K Nov 16 01:37 test-code.ipynb\n",
      "::FARGOpy::sysrun::Done. Check Util.STDOUT and Util.STDERR for details.\n",
      "['total 8.0K', '-rw-r--r-- 1 jzuluaga jzuluaga 5.3K Nov 16 01:37 test-code.ipynb', (0, '')]\n"
     ]
    }
   ],
   "source": [
    "error,out = fp.Util.sysrun('ls -lh',verbose=True)\n",
    "print(out)"
   ]
  },
  {
   "cell_type": "code",
   "execution_count": 43,
   "metadata": {},
   "outputs": [
    {
     "name": "stdout",
     "output_type": "stream",
     "text": [
      "::FARGOpy::sysrun::cmd = ls -lh ..\n",
      "total 124K\n",
      "-rw-r--r--  1 jzuluaga jzuluaga 1.1K Nov 15 15:54 LICENSE\n",
      "-rwxr-xr-x  1 jzuluaga jzuluaga 8.4K Nov 16 01:35 README.ipynb\n",
      "-rw-r--r--  1 jzuluaga jzuluaga  69K Nov 15 15:58 README.md\n",
      "drwxr-xr-x  2 jzuluaga jzuluaga 4.0K Nov 15 15:58 bin\n",
      "drwxr-xr-x  2 jzuluaga jzuluaga 4.0K Nov 16 00:49 dev\n",
      "drwxr-xr-x  4 jzuluaga jzuluaga 4.0K Nov 15 23:15 fargopy\n",
      "drwxr-xr-x  2 jzuluaga jzuluaga 4.0K Nov 16 00:03 fargopy.egg-info\n",
      "-rwxr-xr-x  1 jzuluaga jzuluaga  975 Nov 15 15:58 makefile\n",
      "drwxr-xr-x 13 jzuluaga jzuluaga 4.0K Nov 16 01:36 public\n",
      "drwxr-xr-x 11 jzuluaga jzuluaga 4.0K Nov 15 23:24 public.save\n",
      "-rwxr-xr-x  1 jzuluaga jzuluaga  127 Nov 16 00:02 pyproject.toml\n",
      "-rwxr-xr-x  1 jzuluaga jzuluaga 2.2K Nov 16 00:02 setup.py\n",
      "::FARGOpy::sysrun::Done. Check Util.STDOUT and Util.STDERR for details.\n",
      "['total 124K', '-rw-r--r--  1 jzuluaga jzuluaga 1.1K Nov 15 15:54 LICENSE', '-rwxr-xr-x  1 jzuluaga jzuluaga 8.4K Nov 16 01:35 README.ipynb', '-rw-r--r--  1 jzuluaga jzuluaga  69K Nov 15 15:58 README.md', 'drwxr-xr-x  2 jzuluaga jzuluaga 4.0K Nov 15 15:58 bin', 'drwxr-xr-x  2 jzuluaga jzuluaga 4.0K Nov 16 00:49 dev', 'drwxr-xr-x  4 jzuluaga jzuluaga 4.0K Nov 15 23:15 fargopy', 'drwxr-xr-x  2 jzuluaga jzuluaga 4.0K Nov 16 00:03 fargopy.egg-info', '-rwxr-xr-x  1 jzuluaga jzuluaga  975 Nov 15 15:58 makefile', 'drwxr-xr-x 13 jzuluaga jzuluaga 4.0K Nov 16 01:36 public', 'drwxr-xr-x 11 jzuluaga jzuluaga 4.0K Nov 15 23:24 public.save', '-rwxr-xr-x  1 jzuluaga jzuluaga  127 Nov 16 00:02 pyproject.toml', '-rwxr-xr-x  1 jzuluaga jzuluaga 2.2K Nov 16 00:02 setup.py', (0, '')]\n",
      "STDOUT:\n",
      " total 124K\n",
      "-rw-r--r--  1 jzuluaga jzuluaga 1.1K Nov 15 15:54 LICENSE\n",
      "-rwxr-xr-x  1 jzuluaga jzuluaga 8.4K Nov 16 01:35 README.ipynb\n",
      "-rw-r--r--  1 jzuluaga jzuluaga  69K Nov 15 15:58 README.md\n",
      "drwxr-xr-x  2 jzuluaga jzuluaga 4.0K Nov 15 15:58 bin\n",
      "drwxr-xr-x  2 jzuluaga jzuluaga 4.0K Nov 16 00:49 dev\n",
      "drwxr-xr-x  4 jzuluaga jzuluaga 4.0K Nov 15 23:15 fargopy\n",
      "drwxr-xr-x  2 jzuluaga jzuluaga 4.0K Nov 16 00:03 fargopy.egg-info\n",
      "-rwxr-xr-x  1 jzuluaga jzuluaga  975 Nov 15 15:58 makefile\n",
      "drwxr-xr-x 13 jzuluaga jzuluaga 4.0K Nov 16 01:36 public\n",
      "drwxr-xr-x 11 jzuluaga jzuluaga 4.0K Nov 15 23:24 public.save\n",
      "-rwxr-xr-x  1 jzuluaga jzuluaga  127 Nov 16 00:02 pyproject.toml\n",
      "-rwxr-xr-x  1 jzuluaga jzuluaga 2.2K Nov 16 00:02 setup.py\n",
      "STDERR:\n",
      " \n",
      "QERROR:\n",
      " 0\n"
     ]
    }
   ],
   "source": [
    "error,out = fp.Util.sysrun('ls -lh ..',verbose=True)\n",
    "print(out)\n",
    "print(\"STDOUT:\\n\",fp.Util.STDOUT)\n",
    "print(\"STDERR:\\n\",fp.Util.STDERR)\n",
    "print(\"QERROR:\\n\",fp.Util.QERROR)"
   ]
  },
  {
   "cell_type": "code",
   "execution_count": 70,
   "metadata": {},
   "outputs": [
    {
     "name": "stdout",
     "output_type": "stream",
     "text": [
      "::FARGOpy::sysrun::cmd = pwd -q\n",
      "::FARGOpy::sysrun::Error check Util.STDERR.\n",
      "[(2, '/bin/sh: 1: pwd: Illegal option -q\\n')]\n",
      "STDOUT:\n",
      " \n",
      "STDERR:\n",
      " /bin/sh: 1: pwd: Illegal option -q\n",
      "\n",
      "QERROR:\n",
      " 2\n"
     ]
    }
   ],
   "source": [
    "error,out = fp.Util.sysrun('pwd -q',verbose=True)\n",
    "print(out)\n",
    "print(\"STDOUT:\\n\",fp.Util.STDOUT)\n",
    "print(\"STDERR:\\n\",fp.Util.STDERR)\n",
    "print(\"QERROR:\\n\",fp.Util.QERROR)"
   ]
  },
  {
   "cell_type": "code",
   "execution_count": 75,
   "metadata": {},
   "outputs": [
    {
     "name": "stdout",
     "output_type": "stream",
     "text": [
      "::FARGOpy::sysrun::cmd = make -C ../public PARALLEL=1\n",
      "make: Entering directory '/home/jzuluaga/fargopy/public'\n",
      "Skipping w\n",
      "Skipping --\n",
      "make[1]: Entering directory '/home/jzuluaga/fargopy/public/bin'\n",
      "::FARGOpy::sysrun::Error check Util.STDERR.\n"
     ]
    }
   ],
   "source": [
    "error, out = fp.Util.sysrun(\"make -C ../public PARALLEL=1\")\n",
    "#error, out = fp.Util.sysrun(\"make -C ../public clean\")"
   ]
  },
  {
   "cell_type": "code",
   "execution_count": 76,
   "metadata": {},
   "outputs": [
    {
     "data": {
      "text/plain": [
       "-1"
      ]
     },
     "execution_count": 76,
     "metadata": {},
     "output_type": "execute_result"
    }
   ],
   "source": [
    "error"
   ]
  },
  {
   "cell_type": "code",
   "execution_count": 77,
   "metadata": {},
   "outputs": [
    {
     "data": {
      "text/plain": [
       "[\"make: Entering directory '/home/jzuluaga/fargopy/public'\",\n",
       " 'Skipping w',\n",
       " 'Skipping --',\n",
       " \"make[1]: Entering directory '/home/jzuluaga/fargopy/public/bin'\",\n",
       " (0,\n",
       "  '/bin/sh: 1: /bin/sh: 1: /bin/sh: 1: mpicc: not foundmpicc: not foundmpicc: not found\\n\\n\\nmake[1]: *** [psys.o] Error 127\\nmake[1]: *** Waiting for unfinished jobs....\\nmake[1]: *** [main.o] Error 127\\nmake[1]: *** [var.o] Error 127\\n/bin/sh: 1: mpicc: not found\\nmake[1]: *** [LowTasks.o] Error 127\\n/bin/sh: 1: mpicc: not found\\nmake[1]: *** [param.o] Error 127\\n/bin/sh: 1: mpicc: not found\\nmake[1]: *** [usage.o] Error 127\\n/bin/sh: 1: mpicc: not found\\nmake[1]: *** [split.o] Error 127\\n')]"
      ]
     },
     "execution_count": 77,
     "metadata": {},
     "output_type": "execute_result"
    }
   ],
   "source": [
    "out"
   ]
  },
  {
   "cell_type": "code",
   "execution_count": 74,
   "metadata": {},
   "outputs": [
    {
     "data": {
      "text/plain": [
       "-1"
      ]
     },
     "execution_count": 74,
     "metadata": {},
     "output_type": "execute_result"
    }
   ],
   "source": [
    "fp.Util.QERROR"
   ]
  },
  {
   "cell_type": "code",
   "execution_count": 81,
   "metadata": {},
   "outputs": [
    {
     "data": {
      "text/plain": [
       "'a_b_1'"
      ]
     },
     "execution_count": 81,
     "metadata": {},
     "output_type": "execute_result"
    }
   ],
   "source": [
    "ster = 'a b=1'\n",
    "'_'.join('_'.join(ster.split('=')).split(' '))"
   ]
  },
  {
   "cell_type": "code",
   "execution_count": 83,
   "metadata": {},
   "outputs": [
    {
     "data": {
      "text/plain": [
       "'a_b_1'"
      ]
     },
     "execution_count": 83,
     "metadata": {},
     "output_type": "execute_result"
    }
   ],
   "source": [
    "ster.replace(' ','_').replace('=','_')"
   ]
  },
  {
   "cell_type": "code",
   "execution_count": null,
   "metadata": {},
   "outputs": [],
   "source": []
  }
 ],
 "metadata": {
  "kernelspec": {
   "display_name": "Python 3",
   "language": "python",
   "name": "python3"
  },
  "language_info": {
   "codemirror_mode": {
    "name": "ipython",
    "version": 3
   },
   "file_extension": ".py",
   "mimetype": "text/x-python",
   "name": "python",
   "nbconvert_exporter": "python",
   "pygments_lexer": "ipython3",
   "version": "3.9.16"
  }
 },
 "nbformat": 4,
 "nbformat_minor": 2
}
